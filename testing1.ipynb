{
 "cells": [
  {
   "cell_type": "code",
   "execution_count": 1,
   "metadata": {},
   "outputs": [
    {
     "data": {
      "text/plain": [
       "requires_data_splitting (generic function with 3 methods)"
      ]
     },
     "metadata": {},
     "output_type": "display_data"
    }
   ],
   "source": [
    "include(\"src\\\\conformal_models\\\\conformal_models.jl\")"
   ]
  },
  {
   "cell_type": "code",
   "execution_count": 2,
   "metadata": {},
   "outputs": [
    {
     "data": {
      "text/plain": [
       "KeySet for a Dict{Symbol, Dict{Symbol, Dict{Symbol, UnionAll}}} with 2 entries. Keys:\n",
       "  :regression\n",
       "  :classification"
      ]
     },
     "metadata": {},
     "output_type": "display_data"
    }
   ],
   "source": [
    "keys(available_models)"
   ]
  },
  {
   "cell_type": "code",
   "execution_count": 3,
   "metadata": {},
   "outputs": [
    {
     "data": {
      "text/html": [
       "<div><div style = \"float: left;\"><span>3×4 DataFrame</span></div><div style = \"clear: both;\"></div></div><div class = \"data-frame\" style = \"overflow-x: scroll;\"><table class = \"data-frame\" style = \"margin-bottom: 6px;\"><thead><tr class = \"header\"><th class = \"rowNumber\" style = \"font-weight: bold; text-align: right;\">Row</th><th style = \"text-align: left;\">x1</th><th style = \"text-align: left;\">x2</th><th style = \"text-align: left;\">x3</th><th style = \"text-align: left;\">y</th></tr><tr class = \"subheader headerLastRow\"><th class = \"rowNumber\" style = \"font-weight: bold; text-align: right;\"></th><th title = \"Float64\" style = \"text-align: left;\">Float64</th><th title = \"Float64\" style = \"text-align: left;\">Float64</th><th title = \"Float64\" style = \"text-align: left;\">Float64</th><th title = \"CategoricalValue{Int64, UInt32}\" style = \"text-align: left;\">Cat…</th></tr></thead><tbody><tr><td class = \"rowNumber\" style = \"font-weight: bold; text-align: right;\">1</td><td style = \"text-align: right;\">5.05457</td><td style = \"text-align: right;\">-7.42856</td><td style = \"text-align: right;\">5.81525</td><td style = \"text-align: left;\">2</td></tr><tr><td class = \"rowNumber\" style = \"font-weight: bold; text-align: right;\">2</td><td style = \"text-align: right;\">7.66333</td><td style = \"text-align: right;\">-5.62175</td><td style = \"text-align: right;\">11.669</td><td style = \"text-align: left;\">2</td></tr><tr><td class = \"rowNumber\" style = \"font-weight: bold; text-align: right;\">3</td><td style = \"text-align: right;\">-9.4298</td><td style = \"text-align: right;\">-1.05368</td><td style = \"text-align: right;\">-1.48768</td><td style = \"text-align: left;\">1</td></tr></tbody></table></div>"
      ],
      "text/latex": [
       "\\begin{tabular}{r|cccc}\n",
       "\t& x1 & x2 & x3 & y\\\\\n",
       "\t\\hline\n",
       "\t& Float64 & Float64 & Float64 & Cat…\\\\\n",
       "\t\\hline\n",
       "\t1 & 5.05457 & -7.42856 & 5.81525 & 2 \\\\\n",
       "\t2 & 7.66333 & -5.62175 & 11.669 & 2 \\\\\n",
       "\t3 & -9.4298 & -1.05368 & -1.48768 & 1 \\\\\n",
       "\\end{tabular}\n"
      ],
      "text/plain": [
       "\u001b[1m3×4 DataFrame\u001b[0m\n",
       "\u001b[1m Row \u001b[0m│\u001b[1m x1       \u001b[0m\u001b[1m x2       \u001b[0m\u001b[1m x3       \u001b[0m\u001b[1m y    \u001b[0m\n",
       "     │\u001b[90m Float64  \u001b[0m\u001b[90m Float64  \u001b[0m\u001b[90m Float64  \u001b[0m\u001b[90m Cat… \u001b[0m\n",
       "─────┼────────────────────────────────────\n",
       "   1 │  5.05457  -7.42856   5.81525  2\n",
       "   2 │  7.66333  -5.62175  11.669    2\n",
       "   3 │ -9.4298   -1.05368  -1.48768  1"
      ]
     },
     "metadata": {},
     "output_type": "display_data"
    }
   ],
   "source": [
    "using MLJ, DataFrames\n",
    "X, y = make_blobs(100, 3; centers=2, cluster_std=[1.0, 3.0])\n",
    "dfBlobs = DataFrame(X)\n",
    "dfBlobs.y = y\n",
    "first(dfBlobs, 3)"
   ]
  },
  {
   "cell_type": "code",
   "execution_count": 4,
   "metadata": {},
   "outputs": [
    {
     "data": {
      "application/vnd.vegalite.v5+json": {
       "data": {
        "values": [
         {
          "x1": 5.054574456135489,
          "x2": -7.428556259350332,
          "x3": 5.815252525150036,
          "y": 2
         },
         {
          "x1": 7.663331535680049,
          "x2": -5.621750141623279,
          "x3": 11.668994089081158,
          "y": 2
         },
         {
          "x1": -9.42979573790042,
          "x2": -1.0536803307174525,
          "x3": -1.4876758907999057,
          "y": 1
         },
         {
          "x1": -9.856215169569614,
          "x2": -3.652079099041207,
          "x3": -0.1944014049597571,
          "y": 1
         },
         {
          "x1": 9.113173454179623,
          "x2": -2.8146929862353023,
          "x3": 8.883822725275197,
          "y": 2
         },
         {
          "x1": 0.08191064972822559,
          "x2": -3.441761963456048,
          "x3": 4.581447270418555,
          "y": 2
         },
         {
          "x1": -10.456140566629358,
          "x2": -2.075029851589874,
          "x3": -0.38294562332118137,
          "y": 1
         },
         {
          "x1": -9.196089897102164,
          "x2": -0.9441324503841348,
          "x3": -1.6899108495076192,
          "y": 1
         },
         {
          "x1": 7.412391550709559,
          "x2": -4.53708734125095,
          "x3": 7.238304552057116,
          "y": 2
         },
         {
          "x1": -10.07931177687245,
          "x2": -0.8995229079787843,
          "x3": -0.0969737052921622,
          "y": 1
         },
         {
          "x1": -10.987358272643489,
          "x2": -2.0375632524477743,
          "x3": 0.33159032247411524,
          "y": 1
         },
         {
          "x1": -9.382224807635172,
          "x2": -3.023185329876153,
          "x3": 0.8366999026578841,
          "y": 1
         },
         {
          "x1": -11.510418897785698,
          "x2": -2.7145478743232307,
          "x3": -1.2949686902143043,
          "y": 1
         },
         {
          "x1": -7.994514744810303,
          "x2": -1.9512818061734545,
          "x3": -1.3694042882975643,
          "y": 1
         },
         {
          "x1": 1.4837710797292925,
          "x2": 0.40060426747792377,
          "x3": 3.7315712693360688,
          "y": 2
         },
         {
          "x1": 1.93836939729593,
          "x2": -10.93705609576184,
          "x3": 9.23573257329005,
          "y": 2
         },
         {
          "x1": -9.123057930530555,
          "x2": -1.5315974040270162,
          "x3": 0.2499227931351644,
          "y": 1
         },
         {
          "x1": -3.1624668639486586,
          "x2": -4.717452716860832,
          "x3": 7.558101426510177,
          "y": 2
         },
         {
          "x1": -10.245738297581578,
          "x2": -1.689539097222771,
          "x3": -0.3765556044217028,
          "y": 1
         },
         {
          "x1": 1.188484935925307,
          "x2": -9.548331693468365,
          "x3": 6.978420453310263,
          "y": 2
         },
         {
          "x1": -0.28799549797639257,
          "x2": -11.625886927997513,
          "x3": 8.026501654560164,
          "y": 2
         },
         {
          "x1": 3.3593883791605212,
          "x2": -12.423564660306692,
          "x3": 6.692021696966436,
          "y": 2
         },
         {
          "x1": -1.872933171616502,
          "x2": -3.4841238963044874,
          "x3": 2.799629085602368,
          "y": 2
         },
         {
          "x1": -11.497218878205366,
          "x2": -3.133326952729072,
          "x3": -0.7680044406994843,
          "y": 1
         },
         {
          "x1": -10.233821925015572,
          "x2": -2.5315983851878805,
          "x3": -1.8910765058631278,
          "y": 1
         },
         {
          "x1": 4.095126278278639,
          "x2": -3.7771471110268355,
          "x3": 4.699053528533825,
          "y": 2
         },
         {
          "x1": 3.6754486481923343,
          "x2": -3.363619677854576,
          "x3": 11.530095055232483,
          "y": 2
         },
         {
          "x1": 0.5719374300471398,
          "x2": -5.22460490401709,
          "x3": 1.3195088323988529,
          "y": 2
         },
         {
          "x1": -10.066728556656692,
          "x2": -1.8516447168127868,
          "x3": -0.005258281082604288,
          "y": 1
         },
         {
          "x1": 4.016224853092003,
          "x2": -9.520297683224664,
          "x3": 6.6013822880214965,
          "y": 2
         },
         {
          "x1": -11.258448790002575,
          "x2": -2.7005452574617643,
          "x3": -0.9561038016549708,
          "y": 1
         },
         {
          "x1": 6.8595651990739945,
          "x2": -3.7001652194459793,
          "x3": 3.3092781280434727,
          "y": 2
         },
         {
          "x1": 6.70483142169675,
          "x2": -8.914962918466195,
          "x3": -2.0389432674573946,
          "y": 2
         },
         {
          "x1": 6.06892657568461,
          "x2": -6.930484150132684,
          "x3": 3.9414960198985467,
          "y": 2
         },
         {
          "x1": 5.12369412314956,
          "x2": -3.7798380046786795,
          "x3": 3.368790736646888,
          "y": 2
         },
         {
          "x1": -10.221851030274511,
          "x2": 0.9059335375693061,
          "x3": -0.576174459563549,
          "y": 1
         },
         {
          "x1": 4.793509026443904,
          "x2": -9.212603914983028,
          "x3": 8.84065670510386,
          "y": 2
         },
         {
          "x1": -9.636147351482437,
          "x2": -1.7267269013456952,
          "x3": 0.2810294943059406,
          "y": 1
         },
         {
          "x1": 7.699393594033211,
          "x2": -5.104092682159225,
          "x3": 8.02098406742175,
          "y": 2
         },
         {
          "x1": 4.560763988724976,
          "x2": -9.290421093867078,
          "x3": 5.598120940204581,
          "y": 2
         },
         {
          "x1": -9.319509357768418,
          "x2": -3.220562566189355,
          "x3": -2.380398449031266,
          "y": 1
         },
         {
          "x1": -9.434326873639117,
          "x2": -3.9860648062897845,
          "x3": -2.772395585112053,
          "y": 1
         },
         {
          "x1": 4.561078107846048,
          "x2": 0.19230842182189534,
          "x3": 10.053645877098813,
          "y": 2
         },
         {
          "x1": -10.65759143371128,
          "x2": -2.1160911022825633,
          "x3": -0.8225035343570551,
          "y": 1
         },
         {
          "x1": -10.683506261250972,
          "x2": -1.924143454121161,
          "x3": -0.12111867754071481,
          "y": 1
         },
         {
          "x1": -8.63208381758501,
          "x2": -3.324219964194488,
          "x3": -0.627579762272118,
          "y": 1
         },
         {
          "x1": 6.30652906803784,
          "x2": -9.806086234762024,
          "x3": 4.372274899088188,
          "y": 2
         },
         {
          "x1": -11.374254805255465,
          "x2": -2.443671743150385,
          "x3": -0.11144846322555146,
          "y": 1
         },
         {
          "x1": 4.113926420505834,
          "x2": -0.7192729837413099,
          "x3": 3.1227613047629337,
          "y": 2
         },
         {
          "x1": -10.02222136010858,
          "x2": -1.9091780185935006,
          "x3": -1.1565453411177395,
          "y": 1
         },
         {
          "x1": -10.410235764637994,
          "x2": -2.771994620256947,
          "x3": -1.8495062264168143,
          "y": 1
         },
         {
          "x1": -8.567415974396724,
          "x2": -1.7117224742292194,
          "x3": -1.074715208253219,
          "y": 1
         },
         {
          "x1": -9.377024000868202,
          "x2": -3.5179725343304216,
          "x3": 0.28131769280603325,
          "y": 1
         },
         {
          "x1": -8.287131988540693,
          "x2": -1.484345776286956,
          "x3": -0.6138867271444736,
          "y": 1
         },
         {
          "x1": 3.105630804791804,
          "x2": -8.151818259149024,
          "x3": 5.960782029584856,
          "y": 2
         },
         {
          "x1": -10.730644304637481,
          "x2": -0.700384409300802,
          "x3": -1.0560829804813143,
          "y": 1
         },
         {
          "x1": 2.203297414650949,
          "x2": -4.691211575759169,
          "x3": 3.4835449130200304,
          "y": 2
         },
         {
          "x1": -7.7849865738657575,
          "x2": -3.4413482226333976,
          "x3": -1.0229320524430547,
          "y": 1
         },
         {
          "x1": -9.680863427096753,
          "x2": -1.7467472135298845,
          "x3": -0.13011183680041383,
          "y": 1
         },
         {
          "x1": -2.8148605976638716,
          "x2": -9.989609503703779,
          "x3": 9.373064205432913,
          "y": 2
         },
         {
          "x1": -9.125997842184663,
          "x2": -1.6024968014203895,
          "x3": -0.8292030840685443,
          "y": 1
         },
         {
          "x1": -10.456742808189597,
          "x2": -0.9284755148211099,
          "x3": 0.1993101454927404,
          "y": 1
         },
         {
          "x1": -9.65971973786594,
          "x2": -1.5056415201363382,
          "x3": 1.5787148861542932,
          "y": 1
         },
         {
          "x1": 5.3886822546021245,
          "x2": 0.3317139591505889,
          "x3": 4.246752529544769,
          "y": 2
         },
         {
          "x1": 1.300817672178729,
          "x2": -5.201781518756903,
          "x3": 5.746559135443518,
          "y": 2
         },
         {
          "x1": 3.596408511918758,
          "x2": -7.0033502424400185,
          "x3": 7.113566511512658,
          "y": 2
         },
         {
          "x1": -10.298423631204466,
          "x2": -3.7565195499566073,
          "x3": 0.33332507131887623,
          "y": 1
         },
         {
          "x1": 0.45363001428449934,
          "x2": -9.42877432448093,
          "x3": 5.527097338634707,
          "y": 2
         },
         {
          "x1": 0.8977439982940316,
          "x2": -4.035644755251215,
          "x3": 3.3261926377495143,
          "y": 2
         },
         {
          "x1": 5.531119495125623,
          "x2": -10.49917538909163,
          "x3": 4.272867021820483,
          "y": 2
         },
         {
          "x1": -10.689910944980603,
          "x2": -2.37178454910696,
          "x3": -2.102145885845612,
          "y": 1
         },
         {
          "x1": 1.4424043925760759,
          "x2": -9.565792379565897,
          "x3": 1.3775213935664166,
          "y": 2
         },
         {
          "x1": -10.905634394585228,
          "x2": 0.6679062249289349,
          "x3": -1.3151315460429762,
          "y": 1
         },
         {
          "x1": -10.193004438290037,
          "x2": -1.29662652229002,
          "x3": -1.055893804529521,
          "y": 1
         },
         {
          "x1": 1.4510158173172045,
          "x2": -9.264736948879815,
          "x3": 6.320676033471039,
          "y": 2
         },
         {
          "x1": -9.179702479681652,
          "x2": -2.0887298016244316,
          "x3": -0.8431622813389632,
          "y": 1
         },
         {
          "x1": -9.746117904385063,
          "x2": -2.8586213166796774,
          "x3": -0.7684368412930863,
          "y": 1
         },
         {
          "x1": -1.3155203107260247,
          "x2": -11.536464002990785,
          "x3": 5.268945624593985,
          "y": 2
         },
         {
          "x1": -9.281812101435841,
          "x2": -2.362407521725339,
          "x3": -2.2528463541905466,
          "y": 1
         },
         {
          "x1": -10.428915364501481,
          "x2": -3.36279760829074,
          "x3": -0.15128450012870998,
          "y": 1
         },
         {
          "x1": -0.1419096574859946,
          "x2": -6.987056458084815,
          "x3": 6.396465092575166,
          "y": 2
         },
         {
          "x1": -9.917293756340722,
          "x2": -2.0110627637083107,
          "x3": -1.1356366871600394,
          "y": 1
         },
         {
          "x1": 5.831159771920599,
          "x2": -5.8292219408346995,
          "x3": 4.362582616149558,
          "y": 2
         },
         {
          "x1": -10.455365710710128,
          "x2": -3.1657132685544127,
          "x3": -2.0739395255834125,
          "y": 1
         },
         {
          "x1": 8.852012608787774,
          "x2": -2.489121507202988,
          "x3": 7.708197323903173,
          "y": 2
         },
         {
          "x1": -9.631547126174802,
          "x2": -2.86467329573056,
          "x3": 0.4716684281341499,
          "y": 1
         },
         {
          "x1": -10.117871640891314,
          "x2": -0.5270686274365401,
          "x3": 1.5532811882770838,
          "y": 1
         },
         {
          "x1": 5.987919272942085,
          "x2": -5.43686705719677,
          "x3": 0.8229463985405499,
          "y": 2
         },
         {
          "x1": -9.33376044243003,
          "x2": -1.2042889332825117,
          "x3": -1.531972738172021,
          "y": 1
         },
         {
          "x1": -4.336556004828003,
          "x2": -4.4011531976129366,
          "x3": 3.8378907761407506,
          "y": 2
         },
         {
          "x1": -8.971994627937777,
          "x2": -0.452888902016499,
          "x3": -0.5112916441493357,
          "y": 1
         },
         {
          "x1": 0.8040153294789216,
          "x2": -6.7317141564186205,
          "x3": 11.93514138235426,
          "y": 2
         },
         {
          "x1": -25.827290481931016,
          "x2": -9.640884891602218,
          "x3": 5.654953231319613,
          "y": 1
         },
         {
          "x1": 2.0891297422744106,
          "x2": -8.495032945610323,
          "x3": 3.054517123470794,
          "y": 2
         },
         {
          "x1": 2.746346094252491,
          "x2": -7.4939611608512084,
          "x3": 10.879494301845348,
          "y": 2
         },
         {
          "x1": 8.435781453014227,
          "x2": -6.271615931131681,
          "x3": 3.8168938747325485,
          "y": 2
         },
         {
          "x1": 0.42035764023206834,
          "x2": -1.9953522897415557,
          "x3": 1.961925878183954,
          "y": 2
         },
         {
          "x1": -8.540299480766711,
          "x2": -3.0859004401552212,
          "x3": -1.4320853331927301,
          "y": 1
         },
         {
          "x1": 4.751293066055229,
          "x2": -7.878185394545049,
          "x3": 11.064317049750112,
          "y": 2
         },
         {
          "x1": 2.808669436521869,
          "x2": -11.30421055761678,
          "x3": 8.143057178961762,
          "y": 2
         }
        ]
       },
       "encoding": {
        "color": {
         "field": "y",
         "type": "nominal"
        },
        "x": {
         "field": "x1",
         "type": "quantitative"
        },
        "y": {
         "field": "x2",
         "type": "quantitative"
        }
       },
       "mark": "point"
      },
      "image/png": "[encoded data removed]",
      "image/svg+xml": [
       "<svg xmlns=\"http://www.w3.org/2000/svg\" xmlns:xlink=\"http://www.w3.org/1999/xlink\" version=\"1.1\" class=\"marks\" width=\"291\" height=\"246\" viewBox=\"0 0 291 246\"><rect width=\"291\" height=\"246\" fill=\"white\"/><g fill=\"none\" stroke-miterlimit=\"10\" transform=\"translate(46,9)\"><g class=\"mark-group role-frame root\" role=\"graphics-object\" aria-roledescription=\"group mark container\"><g transform=\"translate(0,0)\"><path class=\"background\" aria-hidden=\"true\" d=\"M0.5,0.5h200v200h-200Z\" stroke=\"#ddd\"/><g><g class=\"mark-group role-axis\" aria-hidden=\"true\"><g transform=\"translate(0.5,200.5)\"><path class=\"background\" aria-hidden=\"true\" d=\"M0,0h0v0h0Z\" pointer-events=\"none\"/><g><g class=\"mark-rule role-axis-grid\" pointer-events=\"none\"><line transform=\"translate(0,-200)\" x2=\"0\" y2=\"200\" stroke=\"#ddd\" stroke-width=\"1\" opacity=\"1\"/><line transform=\"translate(50,-200)\" x2=\"0\" y2=\"200\" stroke=\"#ddd\" stroke-width=\"1\" opacity=\"1\"/><line transform=\"translate(100,-200)\" x2=\"0\" y2=\"200\" stroke=\"#ddd\" stroke-width=\"1\" opacity=\"1\"/><line transform=\"translate(150,-200)\" x2=\"0\" y2=\"200\" stroke=\"#ddd\" stroke-width=\"1\" opacity=\"1\"/><line transform=\"translate(200,-200)\" x2=\"0\" y2=\"200\" stroke=\"#ddd\" stroke-width=\"1\" opacity=\"1\"/></g></g><path class=\"foreground\" aria-hidden=\"true\" d=\"\" pointer-events=\"none\" display=\"none\"/></g></g><g class=\"mark-group role-axis\" aria-hidden=\"true\"><g transform=\"translate(0.5,0.5)\"><path class=\"background\" aria-hidden=\"true\" d=\"M0,0h0v0h0Z\" pointer-events=\"none\"/><g><g class=\"mark-rule role-axis-grid\" pointer-events=\"none\"><line transform=\"translate(0,186)\" x2=\"200\" y2=\"0\" stroke=\"#ddd\" stroke-width=\"1\" opacity=\"1\"/><line transform=\"translate(0,157)\" x2=\"200\" y2=\"0\" stroke=\"#ddd\" stroke-width=\"1\" opacity=\"1\"/><line transform=\"translate(0,129)\" x2=\"200\" y2=\"0\" stroke=\"#ddd\" stroke-width=\"1\" opacity=\"1\"/><line transform=\"translate(0,100)\" x2=\"200\" y2=\"0\" stroke=\"#ddd\" stroke-width=\"1\" opacity=\"1\"/><line transform=\"translate(0,71)\" x2=\"200\" y2=\"0\" stroke=\"#ddd\" stroke-width=\"1\" opacity=\"1\"/><line transform=\"translate(0,43)\" x2=\"200\" y2=\"0\" stroke=\"#ddd\" stroke-width=\"1\" opacity=\"1\"/><line transform=\"translate(0,14)\" x2=\"200\" y2=\"0\" stroke=\"#ddd\" stroke-width=\"1\" opacity=\"1\"/></g></g><path class=\"foreground\" aria-hidden=\"true\" d=\"\" pointer-events=\"none\" display=\"none\"/></g></g><g class=\"mark-group role-axis\" role=\"graphics-symbol\" aria-roledescription=\"axis\" aria-label=\"X-axis titled 'x1' for a linear scale with values from −30 to 10\"><g transform=\"translate(0.5,200.5)\"><path class=\"background\" aria-hidden=\"true\" d=\"M0,0h0v0h0Z\" pointer-events=\"none\"/><g><g class=\"mark-rule role-axis-tick\" pointer-events=\"none\"><line transform=\"translate(0,0)\" x2=\"0\" y2=\"5\" stroke=\"#888\" stroke-width=\"1\" opacity=\"1\"/><line transform=\"translate(50,0)\" x2=\"0\" y2=\"5\" stroke=\"#888\" stroke-width=\"1\" opacity=\"1\"/><line transform=\"translate(100,0)\" x2=\"0\" y2=\"5\" stroke=\"#888\" stroke-width=\"1\" opacity=\"1\"/><line transform=\"translate(150,0)\" x2=\"0\" y2=\"5\" stroke=\"#888\" stroke-width=\"1\" opacity=\"1\"/><line transform=\"translate(200,0)\" x2=\"0\" y2=\"5\" stroke=\"#888\" stroke-width=\"1\" opacity=\"1\"/></g><g class=\"mark-text role-axis-label\" pointer-events=\"none\"><text text-anchor=\"start\" transform=\"translate(0,15)\" font-family=\"sans-serif\" font-size=\"10px\" fill=\"#000\" opacity=\"1\">−30</text><text text-anchor=\"middle\" transform=\"translate(50,15)\" font-family=\"sans-serif\" font-size=\"10px\" fill=\"#000\" opacity=\"1\">−20</text><text text-anchor=\"middle\" transform=\"translate(100,15)\" font-family=\"sans-serif\" font-size=\"10px\" fill=\"#000\" opacity=\"1\">−10</text><text text-anchor=\"middle\" transform=\"translate(150,15)\" font-family=\"sans-serif\" font-size=\"10px\" fill=\"#000\" opacity=\"1\">0</text><text text-anchor=\"end\" transform=\"translate(200,15)\" font-family=\"sans-serif\" font-size=\"10px\" fill=\"#000\" opacity=\"1\">10</text></g><g class=\"mark-rule role-axis-domain\" pointer-events=\"none\"><line transform=\"translate(0,0)\" x2=\"200\" y2=\"0\" stroke=\"#888\" stroke-width=\"1\" opacity=\"1\"/></g><g class=\"mark-text role-axis-title\" pointer-events=\"none\"><text text-anchor=\"middle\" transform=\"translate(100,30)\" font-family=\"sans-serif\" font-size=\"11px\" font-weight=\"bold\" fill=\"#000\" opacity=\"1\">x1</text></g></g><path class=\"foreground\" aria-hidden=\"true\" d=\"\" pointer-events=\"none\" display=\"none\"/></g></g><g class=\"mark-group role-axis\" role=\"graphics-symbol\" aria-roledescription=\"axis\" aria-label=\"Y-axis titled 'x2' for a linear scale with values from −13 to 1\"><g transform=\"translate(0.5,0.5)\"><path class=\"background\" aria-hidden=\"true\" d=\"M0,0h0v0h0Z\" pointer-events=\"none\"/><g><g class=\"mark-rule role-axis-tick\" pointer-events=\"none\"><line transform=\"translate(0,186)\" x2=\"-5\" y2=\"0\" stroke=\"#888\" stroke-width=\"1\" opacity=\"1\"/><line transform=\"translate(0,157)\" x2=\"-5\" y2=\"0\" stroke=\"#888\" stroke-width=\"1\" opacity=\"1\"/><line transform=\"translate(0,129)\" x2=\"-5\" y2=\"0\" stroke=\"#888\" stroke-width=\"1\" opacity=\"1\"/><line transform=\"translate(0,100)\" x2=\"-5\" y2=\"0\" stroke=\"#888\" stroke-width=\"1\" opacity=\"1\"/><line transform=\"translate(0,71)\" x2=\"-5\" y2=\"0\" stroke=\"#888\" stroke-width=\"1\" opacity=\"1\"/><line transform=\"translate(0,43)\" x2=\"-5\" y2=\"0\" stroke=\"#888\" stroke-width=\"1\" opacity=\"1\"/><line transform=\"translate(0,14)\" x2=\"-5\" y2=\"0\" stroke=\"#888\" stroke-width=\"1\" opacity=\"1\"/></g><g class=\"mark-text role-axis-label\" pointer-events=\"none\"><text text-anchor=\"end\" transform=\"translate(-7,188.71428571428572)\" font-family=\"sans-serif\" font-size=\"10px\" fill=\"#000\" opacity=\"1\">−12</text><text text-anchor=\"end\" transform=\"translate(-7,160.14285714285714)\" font-family=\"sans-serif\" font-size=\"10px\" fill=\"#000\" opacity=\"1\">−10</text><text text-anchor=\"end\" transform=\"translate(-7,131.57142857142856)\" font-family=\"sans-serif\" font-size=\"10px\" fill=\"#000\" opacity=\"1\">−8</text><text text-anchor=\"end\" transform=\"translate(-7,103)\" font-family=\"sans-serif\" font-size=\"10px\" fill=\"#000\" opacity=\"1\">−6</text><text text-anchor=\"end\" transform=\"translate(-7,74.42857142857142)\" font-family=\"sans-serif\" font-size=\"10px\" fill=\"#000\" opacity=\"1\">−4</text><text text-anchor=\"end\" transform=\"translate(-7,45.85714285714286)\" font-family=\"sans-serif\" font-size=\"10px\" fill=\"#000\" opacity=\"1\">−2</text><text text-anchor=\"end\" transform=\"translate(-7,17.285714285714278)\" font-family=\"sans-serif\" font-size=\"10px\" fill=\"#000\" opacity=\"1\">0</text></g><g class=\"mark-rule role-axis-domain\" pointer-events=\"none\"><line transform=\"translate(0,200)\" x2=\"0\" y2=\"-200\" stroke=\"#888\" stroke-width=\"1\" opacity=\"1\"/></g><g class=\"mark-text role-axis-title\" pointer-events=\"none\"><text text-anchor=\"middle\" transform=\"translate(-29.193359375,100) rotate(-90) translate(0,-2)\" font-family=\"sans-serif\" font-size=\"11px\" font-weight=\"bold\" fill=\"#000\" opacity=\"1\">x2</text></g></g><path class=\"foreground\" aria-hidden=\"true\" d=\"\" pointer-events=\"none\" display=\"none\"/></g></g><g class=\"mark-symbol role-mark marks\" role=\"graphics-object\" aria-roledescription=\"symbol mark container\"><path aria-label=\"x1: 5.05457445614; x2: −7.42855625935; y: 2\" role=\"graphics-symbol\" aria-roledescription=\"point\" transform=\"translate(175.27287228067746,120.4079465621476)\" d=\"M2.739,0A2.739,2.739,0,1,1,-2.739,0A2.739,2.739,0,1,1,2.739,0\" stroke=\"#f58518\" stroke-width=\"2\" opacity=\"0.7\"/><path aria-label=\"x1: 7.66333153568; x2: −5.62175014162; y: 2\" role=\"graphics-symbol\" aria-roledescription=\"point\" transform=\"translate(188.31665767840025,94.59643059461827)\" d=\"M2.739,0A2.739,2.739,0,1,1,-2.739,0A2.739,2.739,0,1,1,2.739,0\" stroke=\"#f58518\" stroke-width=\"2\" opacity=\"0.7\"/><path aria-label=\"x1: −9.4297957379; x2: −1.05368033072; y: 1\" role=\"graphics-symbol\" aria-roledescription=\"point\" transform=\"translate(102.8510213104979,29.338290438820746)\" d=\"M2.739,0A2.739,2.739,0,1,1,-2.739,0A2.739,2.739,0,1,1,2.739,0\" stroke=\"#4c78a8\" stroke-width=\"2\" opacity=\"0.7\"/><path aria-label=\"x1: −9.85621516957; x2: −3.65207909904; y: 1\" role=\"graphics-symbol\" aria-roledescription=\"point\" transform=\"translate(100.71892415215191,66.45827284344581)\" d=\"M2.739,0A2.739,2.739,0,1,1,-2.739,0A2.739,2.739,0,1,1,2.739,0\" stroke=\"#4c78a8\" stroke-width=\"2\" opacity=\"0.7\"/><path aria-label=\"x1: 9.11317345418; x2: −2.81469298624; y: 2\" role=\"graphics-symbol\" aria-roledescription=\"point\" transform=\"translate(195.5658672708981,54.49561408907575)\" d=\"M2.739,0A2.739,2.739,0,1,1,-2.739,0A2.739,2.739,0,1,1,2.739,0\" stroke=\"#f58518\" stroke-width=\"2\" opacity=\"0.7\"/><path aria-label=\"x1: 0.0819106497282; x2: −3.44176196346; y: 2\" role=\"graphics-symbol\" aria-roledescription=\"point\" transform=\"translate(150.40955324864115,63.4537423350864)\" d=\"M2.739,0A2.739,2.739,0,1,1,-2.739,0A2.739,2.739,0,1,1,2.739,0\" stroke=\"#f58518\" stroke-width=\"2\" opacity=\"0.7\"/><path aria-label=\"x1: −10.4561405666; x2: −2.07502985159; y: 1\" role=\"graphics-symbol\" aria-roledescription=\"point\" transform=\"translate(97.71929716685321,43.92899787985536)\" d=\"M2.739,0A2.739,2.739,0,1,1,-2.739,0A2.739,2.739,0,1,1,2.739,0\" stroke=\"#4c78a8\" stroke-width=\"2\" opacity=\"0.7\"/><path aria-label=\"x1: −9.1960898971; x2: −0.944132450384; y: 1\" role=\"graphics-symbol\" aria-roledescription=\"point\" transform=\"translate(104.0195505144892,27.773320719773366)\" d=\"M2.739,0A2.739,2.739,0,1,1,-2.739,0A2.739,2.739,0,1,1,2.739,0\" stroke=\"#4c78a8\" stroke-width=\"2\" opacity=\"0.7\"/><path aria-label=\"x1: 7.41239155071; x2: −4.53708734125; y: 2\" role=\"graphics-symbol\" aria-roledescription=\"point\" transform=\"translate(187.0619577535478,79.10124773215641)\" d=\"M2.739,0A2.739,2.739,0,1,1,-2.739,0A2.739,2.739,0,1,1,2.739,0\" stroke=\"#f58518\" stroke-width=\"2\" opacity=\"0.7\"/><path aria-label=\"x1: −10.0793117769; x2: −0.899522907979; y: 1\" role=\"graphics-symbol\" aria-roledescription=\"point\" transform=\"translate(99.60344111563775,27.136041542554068)\" d=\"M2.739,0A2.739,2.739,0,1,1,-2.739,0A2.739,2.739,0,1,1,2.739,0\" stroke=\"#4c78a8\" stroke-width=\"2\" opacity=\"0.7\"/><path aria-label=\"x1: −10.9873582726; x2: −2.03756325245; y: 1\" role=\"graphics-symbol\" aria-roledescription=\"point\" transform=\"translate(95.06320863678255,43.39376074925394)\" d=\"M2.739,0A2.739,2.739,0,1,1,-2.739,0A2.739,2.739,0,1,1,2.739,0\" stroke=\"#4c78a8\" stroke-width=\"2\" opacity=\"0.7\"/><path aria-label=\"x1: −9.38222480764; x2: −3.02318532988; y: 1\" role=\"graphics-symbol\" aria-roledescription=\"point\" transform=\"translate(103.08887596182414,57.474076141087906)\" d=\"M2.739,0A2.739,2.739,0,1,1,-2.739,0A2.739,2.739,0,1,1,2.739,0\" stroke=\"#4c78a8\" stroke-width=\"2\" opacity=\"0.7\"/><path aria-label=\"x1: −11.5104188978; x2: −2.71454787432; y: 1\" role=\"graphics-symbol\" aria-roledescription=\"point\" transform=\"translate(92.44790551107151,53.06496963318901)\" d=\"M2.739,0A2.739,2.739,0,1,1,-2.739,0A2.739,2.739,0,1,1,2.739,0\" stroke=\"#4c78a8\" stroke-width=\"2\" opacity=\"0.7\"/><path aria-label=\"x1: −7.99451474481; x2: −1.95128180617; y: 1\" role=\"graphics-symbol\" aria-roledescription=\"point\" transform=\"translate(110.02742627594849,42.161168659620785)\" d=\"M2.739,0A2.739,2.739,0,1,1,-2.739,0A2.739,2.739,0,1,1,2.739,0\" stroke=\"#4c78a8\" stroke-width=\"2\" opacity=\"0.7\"/><path aria-label=\"x1: 1.48377107973; x2: 0.400604267478; y: 2\" role=\"graphics-symbol\" aria-roledescription=\"point\" transform=\"translate(157.41885539864646,8.5627961788868)\" d=\"M2.739,0A2.739,2.739,0,1,1,-2.739,0A2.739,2.739,0,1,1,2.739,0\" stroke=\"#f58518\" stroke-width=\"2\" opacity=\"0.7\"/><path aria-label=\"x1: 1.9383693973; x2: −10.9370560958; y: 2\" role=\"graphics-symbol\" aria-roledescription=\"point\" transform=\"translate(159.69184698647965,170.5293727965977)\" d=\"M2.739,0A2.739,2.739,0,1,1,-2.739,0A2.739,2.739,0,1,1,2.739,0\" stroke=\"#f58518\" stroke-width=\"2\" opacity=\"0.7\"/><path aria-label=\"x1: −9.12305793053; x2: −1.53159740403; y: 1\" role=\"graphics-symbol\" aria-roledescription=\"point\" transform=\"translate(104.38471034734722,36.16567720038595)\" d=\"M2.739,0A2.739,2.739,0,1,1,-2.739,0A2.739,2.739,0,1,1,2.739,0\" stroke=\"#4c78a8\" stroke-width=\"2\" opacity=\"0.7\"/><path aria-label=\"x1: −3.16246686395; x2: −4.71745271686; y: 2\" role=\"graphics-symbol\" aria-roledescription=\"point\" transform=\"translate(134.1876656802567,81.67789595515474)\" d=\"M2.739,0A2.739,2.739,0,1,1,-2.739,0A2.739,2.739,0,1,1,2.739,0\" stroke=\"#f58518\" stroke-width=\"2\" opacity=\"0.7\"/><path aria-label=\"x1: −10.2457382976; x2: −1.68953909722; y: 1\" role=\"graphics-symbol\" aria-roledescription=\"point\" transform=\"translate(98.7713085120921,38.42198710318243)\" d=\"M2.739,0A2.739,2.739,0,1,1,-2.739,0A2.739,2.739,0,1,1,2.739,0\" stroke=\"#4c78a8\" stroke-width=\"2\" opacity=\"0.7\"/><path aria-label=\"x1: 1.18848493593; x2: −9.54833169347; y: 2\" role=\"graphics-symbol\" aria-roledescription=\"point\" transform=\"translate(155.94242467962653,150.6904527638338)\" d=\"M2.739,0A2.739,2.739,0,1,1,-2.739,0A2.739,2.739,0,1,1,2.739,0\" stroke=\"#f58518\" stroke-width=\"2\" opacity=\"0.7\"/><path aria-label=\"x1: −0.287995497976; x2: −11.625886928; y: 2\" role=\"graphics-symbol\" aria-roledescription=\"point\" transform=\"translate(148.56002251011805,180.36981325710732)\" d=\"M2.739,0A2.739,2.739,0,1,1,-2.739,0A2.739,2.739,0,1,1,2.739,0\" stroke=\"#f58518\" stroke-width=\"2\" opacity=\"0.7\"/><path aria-label=\"x1: 3.35938837916; x2: −12.4235646603; y: 2\" role=\"graphics-symbol\" aria-roledescription=\"point\" transform=\"translate(166.7969418958026,191.76520943295273)\" d=\"M2.739,0A2.739,2.739,0,1,1,-2.739,0A2.739,2.739,0,1,1,2.739,0\" stroke=\"#f58518\" stroke-width=\"2\" opacity=\"0.7\"/><path aria-label=\"x1: −1.87293317162; x2: −3.4841238963; y: 2\" role=\"graphics-symbol\" aria-roledescription=\"point\" transform=\"translate(140.6353341419175,64.05891280434982)\" d=\"M2.739,0A2.739,2.739,0,1,1,-2.739,0A2.739,2.739,0,1,1,2.739,0\" stroke=\"#f58518\" stroke-width=\"2\" opacity=\"0.7\"/><path aria-label=\"x1: −11.4972188782; x2: −3.13332695273; y: 1\" role=\"graphics-symbol\" aria-roledescription=\"point\" transform=\"translate(92.51390560897318,59.047527896129594)\" d=\"M2.739,0A2.739,2.739,0,1,1,-2.739,0A2.739,2.739,0,1,1,2.739,0\" stroke=\"#4c78a8\" stroke-width=\"2\" opacity=\"0.7\"/><path aria-label=\"x1: −10.233821925; x2: −2.53159838519; y: 1\" role=\"graphics-symbol\" aria-roledescription=\"point\" transform=\"translate(98.83089037492215,50.45140550268401)\" d=\"M2.739,0A2.739,2.739,0,1,1,-2.739,0A2.739,2.739,0,1,1,2.739,0\" stroke=\"#4c78a8\" stroke-width=\"2\" opacity=\"0.7\"/><path aria-label=\"x1: 4.09512627828; x2: −3.77714711103; y: 2\" role=\"graphics-symbol\" aria-roledescription=\"point\" transform=\"translate(170.47563139139322,68.2449587289548)\" d=\"M2.739,0A2.739,2.739,0,1,1,-2.739,0A2.739,2.739,0,1,1,2.739,0\" stroke=\"#f58518\" stroke-width=\"2\" opacity=\"0.7\"/><path aria-label=\"x1: 3.67544864819; x2: −3.36361967785; y: 2\" role=\"graphics-symbol\" aria-roledescription=\"point\" transform=\"translate(168.3772432409617,62.33742396935109)\" d=\"M2.739,0A2.739,2.739,0,1,1,-2.739,0A2.739,2.739,0,1,1,2.739,0\" stroke=\"#f58518\" stroke-width=\"2\" opacity=\"0.7\"/><path aria-label=\"x1: 0.571937430047; x2: −5.22460490402; y: 2\" role=\"graphics-symbol\" aria-roledescription=\"point\" transform=\"translate(152.85968715023571,88.92292720024415)\" d=\"M2.739,0A2.739,2.739,0,1,1,-2.739,0A2.739,2.739,0,1,1,2.739,0\" stroke=\"#f58518\" stroke-width=\"2\" opacity=\"0.7\"/><path aria-label=\"x1: −10.0667285567; x2: −1.85164471681; y: 1\" role=\"graphics-symbol\" aria-roledescription=\"point\" transform=\"translate(99.66635721671653,40.7377816687541)\" d=\"M2.739,0A2.739,2.739,0,1,1,-2.739,0A2.739,2.739,0,1,1,2.739,0\" stroke=\"#4c78a8\" stroke-width=\"2\" opacity=\"0.7\"/><path aria-label=\"x1: 4.01622485309; x2: −9.52029768322; y: 2\" role=\"graphics-symbol\" aria-roledescription=\"point\" transform=\"translate(170.08112426546003,150.2899669032095)\" d=\"M2.739,0A2.739,2.739,0,1,1,-2.739,0A2.739,2.739,0,1,1,2.739,0\" stroke=\"#f58518\" stroke-width=\"2\" opacity=\"0.7\"/><path aria-label=\"x1: −11.25844879; x2: −2.70054525746; y: 1\" role=\"graphics-symbol\" aria-roledescription=\"point\" transform=\"translate(93.70775604998713,52.864932249453766)\" d=\"M2.739,0A2.739,2.739,0,1,1,-2.739,0A2.739,2.739,0,1,1,2.739,0\" stroke=\"#4c78a8\" stroke-width=\"2\" opacity=\"0.7\"/><path aria-label=\"x1: 6.85956519907; x2: −3.70016521945; y: 2\" role=\"graphics-symbol\" aria-roledescription=\"point\" transform=\"translate(184.29782599536998,67.14521742065685)\" d=\"M2.739,0A2.739,2.739,0,1,1,-2.739,0A2.739,2.739,0,1,1,2.739,0\" stroke=\"#f58518\" stroke-width=\"2\" opacity=\"0.7\"/><path aria-label=\"x1: 6.7048314217; x2: −8.91496291847; y: 2\" role=\"graphics-symbol\" aria-roledescription=\"point\" transform=\"translate(183.52415710848376,141.64232740665992)\" d=\"M2.739,0A2.739,2.739,0,1,1,-2.739,0A2.739,2.739,0,1,1,2.739,0\" stroke=\"#f58518\" stroke-width=\"2\" opacity=\"0.7\"/><path aria-label=\"x1: 6.06892657568; x2: −6.93048415013; y: 2\" role=\"graphics-symbol\" aria-roledescription=\"point\" transform=\"translate(180.34463287842303,113.29263071618118)\" d=\"M2.739,0A2.739,2.739,0,1,1,-2.739,0A2.739,2.739,0,1,1,2.739,0\" stroke=\"#f58518\" stroke-width=\"2\" opacity=\"0.7\"/><path aria-label=\"x1: 5.12369412315; x2: −3.77983800468; y: 2\" role=\"graphics-symbol\" aria-roledescription=\"point\" transform=\"translate(175.6184706157478,68.28340006683828)\" d=\"M2.739,0A2.739,2.739,0,1,1,-2.739,0A2.739,2.739,0,1,1,2.739,0\" stroke=\"#f58518\" stroke-width=\"2\" opacity=\"0.7\"/><path aria-label=\"x1: −10.2218510303; x2: 0.905933537569; y: 1\" role=\"graphics-symbol\" aria-roledescription=\"point\" transform=\"translate(98.89074484862745,1.3438066061527865)\" d=\"M2.739,0A2.739,2.739,0,1,1,-2.739,0A2.739,2.739,0,1,1,2.739,0\" stroke=\"#4c78a8\" stroke-width=\"2\" opacity=\"0.7\"/><path aria-label=\"x1: 4.79350902644; x2: −9.21260391498; y: 2\" role=\"graphics-symbol\" aria-roledescription=\"point\" transform=\"translate(173.96754513221953,145.89434164261468)\" d=\"M2.739,0A2.739,2.739,0,1,1,-2.739,0A2.739,2.739,0,1,1,2.739,0\" stroke=\"#f58518\" stroke-width=\"2\" opacity=\"0.7\"/><path aria-label=\"x1: −9.63614735148; x2: −1.72672690135; y: 1\" role=\"graphics-symbol\" aria-roledescription=\"point\" transform=\"translate(101.81926324258784,38.95324144779566)\" d=\"M2.739,0A2.739,2.739,0,1,1,-2.739,0A2.739,2.739,0,1,1,2.739,0\" stroke=\"#4c78a8\" stroke-width=\"2\" opacity=\"0.7\"/><path aria-label=\"x1: 7.69939359403; x2: −5.10409268216; y: 2\" role=\"graphics-symbol\" aria-roledescription=\"point\" transform=\"translate(188.49696797016605,87.20132403084607)\" d=\"M2.739,0A2.739,2.739,0,1,1,-2.739,0A2.739,2.739,0,1,1,2.739,0\" stroke=\"#f58518\" stroke-width=\"2\" opacity=\"0.7\"/><path aria-label=\"x1: 4.56076398872; x2: −9.29042109387; y: 2\" role=\"graphics-symbol\" aria-roledescription=\"point\" transform=\"translate(172.80381994362492,147.00601562667254)\" d=\"M2.739,0A2.739,2.739,0,1,1,-2.739,0A2.739,2.739,0,1,1,2.739,0\" stroke=\"#f58518\" stroke-width=\"2\" opacity=\"0.7\"/><path aria-label=\"x1: −9.31950935777; x2: −3.22056256619; y: 1\" role=\"graphics-symbol\" aria-roledescription=\"point\" transform=\"translate(103.4024532111579,60.293750945562195)\" d=\"M2.739,0A2.739,2.739,0,1,1,-2.739,0A2.739,2.739,0,1,1,2.739,0\" stroke=\"#4c78a8\" stroke-width=\"2\" opacity=\"0.7\"/><path aria-label=\"x1: −9.43432687364; x2: −3.98606480629; y: 1\" role=\"graphics-symbol\" aria-roledescription=\"point\" transform=\"translate(102.82836563180442,71.2294972327112)\" d=\"M2.739,0A2.739,2.739,0,1,1,-2.739,0A2.739,2.739,0,1,1,2.739,0\" stroke=\"#4c78a8\" stroke-width=\"2\" opacity=\"0.7\"/><path aria-label=\"x1: 4.56107810785; x2: 0.192308421822; y: 2\" role=\"graphics-symbol\" aria-roledescription=\"point\" transform=\"translate(172.80539053923025,11.538451116830073)\" d=\"M2.739,0A2.739,2.739,0,1,1,-2.739,0A2.739,2.739,0,1,1,2.739,0\" stroke=\"#f58518\" stroke-width=\"2\" opacity=\"0.7\"/><path aria-label=\"x1: −10.6575914337; x2: −2.11609110228; y: 1\" role=\"graphics-symbol\" aria-roledescription=\"point\" transform=\"translate(96.7120428314436,44.5155871754652)\" d=\"M2.739,0A2.739,2.739,0,1,1,-2.739,0A2.739,2.739,0,1,1,2.739,0\" stroke=\"#4c78a8\" stroke-width=\"2\" opacity=\"0.7\"/><path aria-label=\"x1: −10.6835062613; x2: −1.92414345412; y: 1\" role=\"graphics-symbol\" aria-roledescription=\"point\" transform=\"translate(96.58246869374514,41.773477916016574)\" d=\"M2.739,0A2.739,2.739,0,1,1,-2.739,0A2.739,2.739,0,1,1,2.739,0\" stroke=\"#4c78a8\" stroke-width=\"2\" opacity=\"0.7\"/><path aria-label=\"x1: −8.63208381759; x2: −3.32421996419; y: 1\" role=\"graphics-symbol\" aria-roledescription=\"point\" transform=\"translate(106.83958091207495,61.77457091706411)\" d=\"M2.739,0A2.739,2.739,0,1,1,-2.739,0A2.739,2.739,0,1,1,2.739,0\" stroke=\"#4c78a8\" stroke-width=\"2\" opacity=\"0.7\"/><path aria-label=\"x1: 6.30652906804; x2: −9.80608623476; y: 2\" role=\"graphics-symbol\" aria-roledescription=\"point\" transform=\"translate(181.5326453401892,154.37266049660033)\" d=\"M2.739,0A2.739,2.739,0,1,1,-2.739,0A2.739,2.739,0,1,1,2.739,0\" stroke=\"#f58518\" stroke-width=\"2\" opacity=\"0.7\"/><path aria-label=\"x1: −11.3742548053; x2: −2.44367174315; y: 1\" role=\"graphics-symbol\" aria-roledescription=\"point\" transform=\"translate(93.12872597372268,49.19531061643407)\" d=\"M2.739,0A2.739,2.739,0,1,1,-2.739,0A2.739,2.739,0,1,1,2.739,0\" stroke=\"#4c78a8\" stroke-width=\"2\" opacity=\"0.7\"/><path aria-label=\"x1: 4.11392642051; x2: −0.719272983741; y: 2\" role=\"graphics-symbol\" aria-roledescription=\"point\" transform=\"translate(170.56963210252917,24.56104262487584)\" d=\"M2.739,0A2.739,2.739,0,1,1,-2.739,0A2.739,2.739,0,1,1,2.739,0\" stroke=\"#f58518\" stroke-width=\"2\" opacity=\"0.7\"/><path aria-label=\"x1: −10.0222213601; x2: −1.90917801859; y: 1\" role=\"graphics-symbol\" aria-roledescription=\"point\" transform=\"translate(99.8888931994571,41.55968597990716)\" d=\"M2.739,0A2.739,2.739,0,1,1,-2.739,0A2.739,2.739,0,1,1,2.739,0\" stroke=\"#4c78a8\" stroke-width=\"2\" opacity=\"0.7\"/><path aria-label=\"x1: −10.4102357646; x2: −2.77199462026; y: 1\" role=\"graphics-symbol\" aria-roledescription=\"point\" transform=\"translate(97.94882117681001,53.885637432242106)\" d=\"M2.739,0A2.739,2.739,0,1,1,-2.739,0A2.739,2.739,0,1,1,2.739,0\" stroke=\"#4c78a8\" stroke-width=\"2\" opacity=\"0.7\"/><path aria-label=\"x1: −8.5674159744; x2: −1.71172247423; y: 1\" role=\"graphics-symbol\" aria-roledescription=\"point\" transform=\"translate(107.16292012801638,38.73889248898885)\" d=\"M2.739,0A2.739,2.739,0,1,1,-2.739,0A2.739,2.739,0,1,1,2.739,0\" stroke=\"#4c78a8\" stroke-width=\"2\" opacity=\"0.7\"/><path aria-label=\"x1: −9.37702400087; x2: −3.51797253433; y: 1\" role=\"graphics-symbol\" aria-roledescription=\"point\" transform=\"translate(103.11487999565898,64.54246477614889)\" d=\"M2.739,0A2.739,2.739,0,1,1,-2.739,0A2.739,2.739,0,1,1,2.739,0\" stroke=\"#4c78a8\" stroke-width=\"2\" opacity=\"0.7\"/><path aria-label=\"x1: −8.28713198854; x2: −1.48434577629; y: 1\" role=\"graphics-symbol\" aria-roledescription=\"point\" transform=\"translate(108.56434005729653,35.49065394695652)\" d=\"M2.739,0A2.739,2.739,0,1,1,-2.739,0A2.739,2.739,0,1,1,2.739,0\" stroke=\"#4c78a8\" stroke-width=\"2\" opacity=\"0.7\"/><path aria-label=\"x1: 3.10563080479; x2: −8.15181825915; y: 2\" role=\"graphics-symbol\" aria-roledescription=\"point\" transform=\"translate(165.528154023959,130.74026084498607)\" d=\"M2.739,0A2.739,2.739,0,1,1,-2.739,0A2.739,2.739,0,1,1,2.739,0\" stroke=\"#f58518\" stroke-width=\"2\" opacity=\"0.7\"/><path aria-label=\"x1: −10.7306443046; x2: −0.700384409301; y: 1\" role=\"graphics-symbol\" aria-roledescription=\"point\" transform=\"translate(96.3467784768126,24.291205847154316)\" d=\"M2.739,0A2.739,2.739,0,1,1,-2.739,0A2.739,2.739,0,1,1,2.739,0\" stroke=\"#4c78a8\" stroke-width=\"2\" opacity=\"0.7\"/><path aria-label=\"x1: 2.20329741465; x2: −4.69121157576; y: 2\" role=\"graphics-symbol\" aria-roledescription=\"point\" transform=\"translate(161.01648707325472,81.30302251084527)\" d=\"M2.739,0A2.739,2.739,0,1,1,-2.739,0A2.739,2.739,0,1,1,2.739,0\" stroke=\"#f58518\" stroke-width=\"2\" opacity=\"0.7\"/><path aria-label=\"x1: −7.78498657387; x2: −3.44134822263; y: 1\" role=\"graphics-symbol\" aria-roledescription=\"point\" transform=\"translate(111.07506713067121,63.44783175190567)\" d=\"M2.739,0A2.739,2.739,0,1,1,-2.739,0A2.739,2.739,0,1,1,2.739,0\" stroke=\"#4c78a8\" stroke-width=\"2\" opacity=\"0.7\"/><path aria-label=\"x1: −9.6808634271; x2: −1.74674721353; y: 1\" role=\"graphics-symbol\" aria-roledescription=\"point\" transform=\"translate(101.59568286451623,39.239245907569774)\" d=\"M2.739,0A2.739,2.739,0,1,1,-2.739,0A2.739,2.739,0,1,1,2.739,0\" stroke=\"#4c78a8\" stroke-width=\"2\" opacity=\"0.7\"/><path aria-label=\"x1: −2.81486059766; x2: −9.9896095037; y: 2\" role=\"graphics-symbol\" aria-roledescription=\"point\" transform=\"translate(135.92569701168063,156.99442148148256)\" d=\"M2.739,0A2.739,2.739,0,1,1,-2.739,0A2.739,2.739,0,1,1,2.739,0\" stroke=\"#f58518\" stroke-width=\"2\" opacity=\"0.7\"/><path aria-label=\"x1: −9.12599784218; x2: −1.60249680142; y: 1\" role=\"graphics-symbol\" aria-roledescription=\"point\" transform=\"translate(104.37001078907669,37.17852573457701)\" d=\"M2.739,0A2.739,2.739,0,1,1,-2.739,0A2.739,2.739,0,1,1,2.739,0\" stroke=\"#4c78a8\" stroke-width=\"2\" opacity=\"0.7\"/><path aria-label=\"x1: −10.4567428082; x2: −0.928475514821; y: 1\" role=\"graphics-symbol\" aria-roledescription=\"point\" transform=\"translate(97.71628595905202,27.549650211730125)\" d=\"M2.739,0A2.739,2.739,0,1,1,-2.739,0A2.739,2.739,0,1,1,2.739,0\" stroke=\"#4c78a8\" stroke-width=\"2\" opacity=\"0.7\"/><path aria-label=\"x1: −9.65971973787; x2: −1.50564152014; y: 1\" role=\"graphics-symbol\" aria-roledescription=\"point\" transform=\"translate(101.70140131067029,35.79487885909054)\" d=\"M2.739,0A2.739,2.739,0,1,1,-2.739,0A2.739,2.739,0,1,1,2.739,0\" stroke=\"#4c78a8\" stroke-width=\"2\" opacity=\"0.7\"/><path aria-label=\"x1: 5.3886822546; x2: 0.331713959151; y: 2\" role=\"graphics-symbol\" aria-roledescription=\"point\" transform=\"translate(176.9434112730106,9.54694344070588)\" d=\"M2.739,0A2.739,2.739,0,1,1,-2.739,0A2.739,2.739,0,1,1,2.739,0\" stroke=\"#f58518\" stroke-width=\"2\" opacity=\"0.7\"/><path aria-label=\"x1: 1.30081767218; x2: −5.20178151876; y: 2\" role=\"graphics-symbol\" aria-roledescription=\"point\" transform=\"translate(156.50408836089363,88.59687883938432)\" d=\"M2.739,0A2.739,2.739,0,1,1,-2.739,0A2.739,2.739,0,1,1,2.739,0\" stroke=\"#f58518\" stroke-width=\"2\" opacity=\"0.7\"/><path aria-label=\"x1: 3.59640851192; x2: −7.00335024244; y: 2\" role=\"graphics-symbol\" aria-roledescription=\"point\" transform=\"translate(167.9820425595938,114.33357489200027)\" d=\"M2.739,0A2.739,2.739,0,1,1,-2.739,0A2.739,2.739,0,1,1,2.739,0\" stroke=\"#f58518\" stroke-width=\"2\" opacity=\"0.7\"/><path aria-label=\"x1: −10.2984236312; x2: −3.75651954996; y: 1\" role=\"graphics-symbol\" aria-roledescription=\"point\" transform=\"translate(98.50788184397767,67.95027928509438)\" d=\"M2.739,0A2.739,2.739,0,1,1,-2.739,0A2.739,2.739,0,1,1,2.739,0\" stroke=\"#4c78a8\" stroke-width=\"2\" opacity=\"0.7\"/><path aria-label=\"x1: 0.453630014284; x2: −9.42877432448; y: 2\" role=\"graphics-symbol\" aria-roledescription=\"point\" transform=\"translate(152.2681500714225,148.98249034972758)\" d=\"M2.739,0A2.739,2.739,0,1,1,-2.739,0A2.739,2.739,0,1,1,2.739,0\" stroke=\"#f58518\" stroke-width=\"2\" opacity=\"0.7\"/><path aria-label=\"x1: 0.897743998294; x2: −4.03564475525; y: 2\" role=\"graphics-symbol\" aria-roledescription=\"point\" transform=\"translate(154.48871999147016,71.9377822178745)\" d=\"M2.739,0A2.739,2.739,0,1,1,-2.739,0A2.739,2.739,0,1,1,2.739,0\" stroke=\"#f58518\" stroke-width=\"2\" opacity=\"0.7\"/><path aria-label=\"x1: 5.53111949513; x2: −10.4991753891; y: 2\" role=\"graphics-symbol\" aria-roledescription=\"point\" transform=\"translate(177.6555974756281,164.27393412988042)\" d=\"M2.739,0A2.739,2.739,0,1,1,-2.739,0A2.739,2.739,0,1,1,2.739,0\" stroke=\"#f58518\" stroke-width=\"2\" opacity=\"0.7\"/><path aria-label=\"x1: −10.689910945; x2: −2.37178454911; y: 1\" role=\"graphics-symbol\" aria-roledescription=\"point\" transform=\"translate(96.55044527509699,48.168350701527984)\" d=\"M2.739,0A2.739,2.739,0,1,1,-2.739,0A2.739,2.739,0,1,1,2.739,0\" stroke=\"#4c78a8\" stroke-width=\"2\" opacity=\"0.7\"/><path aria-label=\"x1: 1.44240439258; x2: −9.56579237957; y: 2\" role=\"graphics-symbol\" aria-roledescription=\"point\" transform=\"translate(157.21202196288039,150.93989113665566)\" d=\"M2.739,0A2.739,2.739,0,1,1,-2.739,0A2.739,2.739,0,1,1,2.739,0\" stroke=\"#f58518\" stroke-width=\"2\" opacity=\"0.7\"/><path aria-label=\"x1: −10.9056343946; x2: 0.667906224929; y: 1\" role=\"graphics-symbol\" aria-roledescription=\"point\" transform=\"translate(95.47182802707385,4.744196786729504)\" d=\"M2.739,0A2.739,2.739,0,1,1,-2.739,0A2.739,2.739,0,1,1,2.739,0\" stroke=\"#4c78a8\" stroke-width=\"2\" opacity=\"0.7\"/><path aria-label=\"x1: −10.1930044383; x2: −1.29662652229; y: 1\" role=\"graphics-symbol\" aria-roledescription=\"point\" transform=\"translate(99.03497780854981,32.808950318428856)\" d=\"M2.739,0A2.739,2.739,0,1,1,-2.739,0A2.739,2.739,0,1,1,2.739,0\" stroke=\"#4c78a8\" stroke-width=\"2\" opacity=\"0.7\"/><path aria-label=\"x1: 1.45101581732; x2: −9.26473694888; y: 2\" role=\"graphics-symbol\" aria-roledescription=\"point\" transform=\"translate(157.25507908658602,146.63909926971164)\" d=\"M2.739,0A2.739,2.739,0,1,1,-2.739,0A2.739,2.739,0,1,1,2.739,0\" stroke=\"#f58518\" stroke-width=\"2\" opacity=\"0.7\"/><path aria-label=\"x1: −9.17970247968; x2: −2.08872980162; y: 1\" role=\"graphics-symbol\" aria-roledescription=\"point\" transform=\"translate(104.10148760159174,44.124711451777586)\" d=\"M2.739,0A2.739,2.739,0,1,1,-2.739,0A2.739,2.739,0,1,1,2.739,0\" stroke=\"#4c78a8\" stroke-width=\"2\" opacity=\"0.7\"/><path aria-label=\"x1: −9.74611790439; x2: −2.85862131668; y: 1\" role=\"graphics-symbol\" aria-roledescription=\"point\" transform=\"translate(101.26941047807469,55.12316166685254)\" d=\"M2.739,0A2.739,2.739,0,1,1,-2.739,0A2.739,2.739,0,1,1,2.739,0\" stroke=\"#4c78a8\" stroke-width=\"2\" opacity=\"0.7\"/><path aria-label=\"x1: −1.31552031073; x2: −11.536464003; y: 2\" role=\"graphics-symbol\" aria-roledescription=\"point\" transform=\"translate(143.42239844636987,179.09234289986836)\" d=\"M2.739,0A2.739,2.739,0,1,1,-2.739,0A2.739,2.739,0,1,1,2.739,0\" stroke=\"#f58518\" stroke-width=\"2\" opacity=\"0.7\"/><path aria-label=\"x1: −9.28181210144; x2: −2.36240752173; y: 1\" role=\"graphics-symbol\" aria-roledescription=\"point\" transform=\"translate(103.59093949282081,48.03439316750484)\" d=\"M2.739,0A2.739,2.739,0,1,1,-2.739,0A2.739,2.739,0,1,1,2.739,0\" stroke=\"#4c78a8\" stroke-width=\"2\" opacity=\"0.7\"/><path aria-label=\"x1: −10.4289153645; x2: −3.36279760829; y: 1\" role=\"graphics-symbol\" aria-roledescription=\"point\" transform=\"translate(97.8554231774926,62.32568011843915)\" d=\"M2.739,0A2.739,2.739,0,1,1,-2.739,0A2.739,2.739,0,1,1,2.739,0\" stroke=\"#4c78a8\" stroke-width=\"2\" opacity=\"0.7\"/><path aria-label=\"x1: −0.141909657486; x2: −6.98705645808; y: 2\" role=\"graphics-symbol\" aria-roledescription=\"point\" transform=\"translate(149.29045171257002,114.10080654406877)\" d=\"M2.739,0A2.739,2.739,0,1,1,-2.739,0A2.739,2.739,0,1,1,2.739,0\" stroke=\"#f58518\" stroke-width=\"2\" opacity=\"0.7\"/><path aria-label=\"x1: −9.91729375634; x2: −2.01106276371; y: 1\" role=\"graphics-symbol\" aria-roledescription=\"point\" transform=\"translate(100.4135312182964,43.01518233869015)\" d=\"M2.739,0A2.739,2.739,0,1,1,-2.739,0A2.739,2.739,0,1,1,2.739,0\" stroke=\"#4c78a8\" stroke-width=\"2\" opacity=\"0.7\"/><path aria-label=\"x1: 5.83115977192; x2: −5.82922194083; y: 2\" role=\"graphics-symbol\" aria-roledescription=\"point\" transform=\"translate(179.15579885960298,97.56031344049572)\" d=\"M2.739,0A2.739,2.739,0,1,1,-2.739,0A2.739,2.739,0,1,1,2.739,0\" stroke=\"#f58518\" stroke-width=\"2\" opacity=\"0.7\"/><path aria-label=\"x1: −10.4553657107; x2: −3.16571326855; y: 1\" role=\"graphics-symbol\" aria-roledescription=\"point\" transform=\"translate(97.72317144644937,59.51018955077731)\" d=\"M2.739,0A2.739,2.739,0,1,1,-2.739,0A2.739,2.739,0,1,1,2.739,0\" stroke=\"#4c78a8\" stroke-width=\"2\" opacity=\"0.7\"/><path aria-label=\"x1: 8.85201260879; x2: −2.4891215072; y: 2\" role=\"graphics-symbol\" aria-roledescription=\"point\" transform=\"translate(194.26006304393889,49.84459296004269)\" d=\"M2.739,0A2.739,2.739,0,1,1,-2.739,0A2.739,2.739,0,1,1,2.739,0\" stroke=\"#f58518\" stroke-width=\"2\" opacity=\"0.7\"/><path aria-label=\"x1: −9.63154712617; x2: −2.86467329573; y: 1\" role=\"graphics-symbol\" aria-roledescription=\"point\" transform=\"translate(101.842264369126,55.20961851043658)\" d=\"M2.739,0A2.739,2.739,0,1,1,-2.739,0A2.739,2.739,0,1,1,2.739,0\" stroke=\"#4c78a8\" stroke-width=\"2\" opacity=\"0.7\"/><path aria-label=\"x1: −10.1178716409; x2: −0.527068627437; y: 1\" role=\"graphics-symbol\" aria-roledescription=\"point\" transform=\"translate(99.41064179554343,21.815266106236276)\" d=\"M2.739,0A2.739,2.739,0,1,1,-2.739,0A2.739,2.739,0,1,1,2.739,0\" stroke=\"#4c78a8\" stroke-width=\"2\" opacity=\"0.7\"/><path aria-label=\"x1: 5.98791927294; x2: −5.4368670572; y: 2\" role=\"graphics-symbol\" aria-roledescription=\"point\" transform=\"translate(179.93959636471044,91.95524367423957)\" d=\"M2.739,0A2.739,2.739,0,1,1,-2.739,0A2.739,2.739,0,1,1,2.739,0\" stroke=\"#f58518\" stroke-width=\"2\" opacity=\"0.7\"/><path aria-label=\"x1: −9.33376044243; x2: −1.20428893328; y: 1\" role=\"graphics-symbol\" aria-roledescription=\"point\" transform=\"translate(103.33119778784985,31.4898419040359)\" d=\"M2.739,0A2.739,2.739,0,1,1,-2.739,0A2.739,2.739,0,1,1,2.739,0\" stroke=\"#4c78a8\" stroke-width=\"2\" opacity=\"0.7\"/><path aria-label=\"x1: −4.33655600483; x2: −4.40115319761; y: 2\" role=\"graphics-symbol\" aria-roledescription=\"point\" transform=\"translate(128.31721997585998,77.15933139447053)\" d=\"M2.739,0A2.739,2.739,0,1,1,-2.739,0A2.739,2.739,0,1,1,2.739,0\" stroke=\"#f58518\" stroke-width=\"2\" opacity=\"0.7\"/><path aria-label=\"x1: −8.97199462794; x2: −0.452888902016; y: 1\" role=\"graphics-symbol\" aria-roledescription=\"point\" transform=\"translate(105.14002686031112,20.755555743092845)\" d=\"M2.739,0A2.739,2.739,0,1,1,-2.739,0A2.739,2.739,0,1,1,2.739,0\" stroke=\"#4c78a8\" stroke-width=\"2\" opacity=\"0.7\"/><path aria-label=\"x1: 0.804015329479; x2: −6.73171415642; y: 2\" role=\"graphics-symbol\" aria-roledescription=\"point\" transform=\"translate(154.0200766473946,110.45305937740886)\" d=\"M2.739,0A2.739,2.739,0,1,1,-2.739,0A2.739,2.739,0,1,1,2.739,0\" stroke=\"#f58518\" stroke-width=\"2\" opacity=\"0.7\"/><path aria-label=\"x1: −25.8272904819; x2: −9.6408848916; y: 1\" role=\"graphics-symbol\" aria-roledescription=\"point\" transform=\"translate(20.863547590344922,152.0126413086031)\" d=\"M2.739,0A2.739,2.739,0,1,1,-2.739,0A2.739,2.739,0,1,1,2.739,0\" stroke=\"#4c78a8\" stroke-width=\"2\" opacity=\"0.7\"/><path aria-label=\"x1: 2.08912974227; x2: −8.49503294561; y: 2\" role=\"graphics-symbol\" aria-roledescription=\"point\" transform=\"translate(160.44564871137203,135.6433277944332)\" d=\"M2.739,0A2.739,2.739,0,1,1,-2.739,0A2.739,2.739,0,1,1,2.739,0\" stroke=\"#f58518\" stroke-width=\"2\" opacity=\"0.7\"/><path aria-label=\"x1: 2.74634609425; x2: −7.49396116085; y: 2\" role=\"graphics-symbol\" aria-roledescription=\"point\" transform=\"translate(163.73173047126244,121.3423022978744)\" d=\"M2.739,0A2.739,2.739,0,1,1,-2.739,0A2.739,2.739,0,1,1,2.739,0\" stroke=\"#f58518\" stroke-width=\"2\" opacity=\"0.7\"/><path aria-label=\"x1: 8.43578145301; x2: −6.27161593113; y: 2\" role=\"graphics-symbol\" aria-roledescription=\"point\" transform=\"translate(192.17890726507113,103.88022758759546)\" d=\"M2.739,0A2.739,2.739,0,1,1,-2.739,0A2.739,2.739,0,1,1,2.739,0\" stroke=\"#f58518\" stroke-width=\"2\" opacity=\"0.7\"/><path aria-label=\"x1: 0.420357640232; x2: −1.99535228974; y: 2\" role=\"graphics-symbol\" aria-roledescription=\"point\" transform=\"translate(152.10178820116033,42.79074699630794)\" d=\"M2.739,0A2.739,2.739,0,1,1,-2.739,0A2.739,2.739,0,1,1,2.739,0\" stroke=\"#f58518\" stroke-width=\"2\" opacity=\"0.7\"/><path aria-label=\"x1: −8.54029948077; x2: −3.08590044016; y: 1\" role=\"graphics-symbol\" aria-roledescription=\"point\" transform=\"translate(107.29850259616644,58.370006287931744)\" d=\"M2.739,0A2.739,2.739,0,1,1,-2.739,0A2.739,2.739,0,1,1,2.739,0\" stroke=\"#4c78a8\" stroke-width=\"2\" opacity=\"0.7\"/><path aria-label=\"x1: 4.75129306606; x2: −7.87818539455; y: 2\" role=\"graphics-symbol\" aria-roledescription=\"point\" transform=\"translate(173.75646533027614,126.83121992207214)\" d=\"M2.739,0A2.739,2.739,0,1,1,-2.739,0A2.739,2.739,0,1,1,2.739,0\" stroke=\"#f58518\" stroke-width=\"2\" opacity=\"0.7\"/><path aria-label=\"x1: 2.80866943652; x2: −11.3042105576; y: 2\" role=\"graphics-symbol\" aria-roledescription=\"point\" transform=\"translate(164.04334718260932,175.77443653738257)\" d=\"M2.739,0A2.739,2.739,0,1,1,-2.739,0A2.739,2.739,0,1,1,2.739,0\" stroke=\"#f58518\" stroke-width=\"2\" opacity=\"0.7\"/></g><g class=\"mark-group role-legend\" role=\"graphics-symbol\" aria-roledescription=\"legend\" aria-label=\"Symbol legend titled 'y' for stroke color with 2 values: 1, 2\"><g transform=\"translate(218,0)\"><path class=\"background\" aria-hidden=\"true\" d=\"M0,0h22v45h-22Z\" pointer-events=\"none\"/><g><g class=\"mark-group role-legend-entry\"><g transform=\"translate(0,16)\"><path class=\"background\" aria-hidden=\"true\" d=\"M0,0h0v0h0Z\" pointer-events=\"none\"/><g><g class=\"mark-group role-scope\" role=\"graphics-object\" aria-roledescription=\"group mark container\"><g transform=\"translate(0,0)\"><path class=\"background\" aria-hidden=\"true\" d=\"M0,0h21.458984375v12.5h-21.458984375Z\" pointer-events=\"none\" opacity=\"1\"/><g><g class=\"mark-symbol role-legend-symbol\" pointer-events=\"none\"><path transform=\"translate(6,6)\" d=\"M5,0A5,5,0,1,1,-5,0A5,5,0,1,1,5,0\" stroke=\"#4c78a8\" stroke-width=\"1.5\" opacity=\"0.7\"/></g><g class=\"mark-text role-legend-label\" pointer-events=\"none\"><text text-anchor=\"start\" transform=\"translate(16,9)\" font-family=\"sans-serif\" font-size=\"10px\" fill=\"#000\" opacity=\"1\">1</text></g></g><path class=\"foreground\" aria-hidden=\"true\" d=\"\" pointer-events=\"none\" display=\"none\"/></g><g transform=\"translate(0,16)\"><path class=\"background\" aria-hidden=\"true\" d=\"M0,0h21.458984375v12.5h-21.458984375Z\" pointer-events=\"none\" opacity=\"1\"/><g><g class=\"mark-symbol role-legend-symbol\" pointer-events=\"none\"><path transform=\"translate(6,6)\" d=\"M5,0A5,5,0,1,1,-5,0A5,5,0,1,1,5,0\" stroke=\"#f58518\" stroke-width=\"1.5\" opacity=\"0.7\"/></g><g class=\"mark-text role-legend-label\" pointer-events=\"none\"><text text-anchor=\"start\" transform=\"translate(16,9)\" font-family=\"sans-serif\" font-size=\"10px\" fill=\"#000\" opacity=\"1\">2</text></g></g><path class=\"foreground\" aria-hidden=\"true\" d=\"\" pointer-events=\"none\" display=\"none\"/></g></g></g><path class=\"foreground\" aria-hidden=\"true\" d=\"\" pointer-events=\"none\" display=\"none\"/></g></g><g class=\"mark-text role-legend-title\" pointer-events=\"none\"><text text-anchor=\"start\" transform=\"translate(0,9)\" font-family=\"sans-serif\" font-size=\"11px\" font-weight=\"bold\" fill=\"#000\" opacity=\"1\">y</text></g></g><path class=\"foreground\" aria-hidden=\"true\" d=\"\" pointer-events=\"none\" display=\"none\"/></g></g></g><path class=\"foreground\" aria-hidden=\"true\" d=\"\" display=\"none\"/></g></g></g></svg>"
      ],
      "text/plain": [
       "@vlplot(\n",
       "    mark=\"point\",\n",
       "    encoding={\n",
       "        x={\n",
       "            field=\"x1\"\n",
       "        },\n",
       "        y={\n",
       "            field=\"x2\"\n",
       "        },\n",
       "        color={\n",
       "            field=\"y\",\n",
       "            type=\"nominal\"\n",
       "        }\n",
       "    },\n",
       "    data={\n",
       "        values=...\n",
       "    }\n",
       ")"
      ]
     },
     "metadata": {},
     "output_type": "display_data"
    }
   ],
   "source": [
    "using VegaLite\n",
    "dfBlobs |> @vlplot(:point, x=:x1, y=:x2, color = :\"y:n\") "
   ]
  },
  {
   "cell_type": "code",
   "execution_count": 12,
   "metadata": {},
   "outputs": [
    {
     "name": "stderr",
     "output_type": "stream",
     "text": [
      "WARNING: import of ConformalPrediction.set_size into Main conflicts with an existing identifier; ignored.\n"
     ]
    }
   ],
   "source": [
    "begin\n",
    "    using ConformalPrediction\n",
    "    using ConformalPrediction: set_size\n",
    "    using Distributions\n",
    "    using EvoTrees: EvoTreeRegressor\n",
    "    using LinearAlgebra: norm\n",
    "    using MLJBase\n",
    "    using MLJFlux: NeuralNetworkRegressor\n",
    "    using MLJLinearModels\n",
    "    using MLJModels\n",
    "    using NearestNeighborModels: KNNRegressor\n",
    "    using Plots\n",
    "    using PlutoUI\n",
    "    using Random\n",
    "    using StatsBase: quantile\n",
    "end;"
   ]
  },
  {
   "cell_type": "code",
   "execution_count": 16,
   "metadata": {},
   "outputs": [],
   "source": [
    "train, test = partition(eachindex(y), 0.4, 0.4; shuffle=true);"
   ]
  },
  {
   "cell_type": "code",
   "execution_count": 25,
   "metadata": {},
   "outputs": [],
   "source": [
    "import MLJBase\n",
    "import Distributions\n",
    "\n",
    "struct MyClassifier <: MLJBase.Probabilistic\n",
    "end\n"
   ]
  },
  {
   "cell_type": "code",
   "execution_count": null,
   "metadata": {},
   "outputs": [],
   "source": [
    "mach_raw = machine(model, X, y);"
   ]
  }
 ],
 "metadata": {
  "kernelspec": {
   "display_name": "Julia 1.10.2",
   "language": "julia",
   "name": "julia-1.10"
  },
  "language_info": {
   "file_extension": ".jl",
   "mimetype": "application/julia",
   "name": "julia",
   "version": "1.10.2"
  }
 },
 "nbformat": 4,
 "nbformat_minor": 2
}
